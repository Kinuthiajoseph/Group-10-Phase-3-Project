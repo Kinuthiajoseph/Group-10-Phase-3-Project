{
 "cells": [
  {
   "cell_type": "markdown",
   "metadata": {},
   "source": [
    "# Predicting Potential Risk Factors for Mass Shooting Incidents in the United States using Linear Regression\n",
    "\n",
    "**Authors:** Joseph Kinuthia Githinji\n",
    "\n",
    "Student pace: Full Time\n",
    "\n",
    "\n",
    "Instructor name: Anthony Muiko / Winnie Anyoso\n",
    "***"
   ]
  },
  {
   "cell_type": "markdown",
   "metadata": {},
   "source": [
    "## Business Overview\n",
    "\n",
    "The purpose of the prediction model is to leverage machine learning, specifically linear regression, to analyze historical data on mass shooting incidents and relevant variables. By identifying potential risk factors and patterns, the model aims to assist in understanding the factors contributing to mass shootings and informing evidence-based strategies for prevention."
   ]
  },
  {
   "cell_type": "markdown",
   "metadata": {},
   "source": [
    "### Dataset\n",
    "The prediction model will utilize a comprehensive dataset on mass shooting incidents in the United States. This dataset includes information such as the case name, location, date, summary of the incident, number of fatalities, number of injured individuals, total victims, location type, age of the shooter, prior signs of mental health issues, weapon details, race, gender, and other relevant variables."
   ]
  },
  {
   "cell_type": "markdown",
   "metadata": {},
   "source": [
    "## Business Problem\n",
    "\n",
    "Mass shooting incidents in the United States have had a devastating impact on communities, prompting the need for effective preventive measures to address this critical issue. This research aims to develop a prediction model using machine learning techniques to identify potential risk factors and patterns associated with mass shooting incidents. By analyzing historical data on mass shootings, demographics, mental health indicators, and other relevant variables, this study seeks to assist authorities and policymakers in understanding and mitigating the risk of such events."
   ]
  },
  {
   "cell_type": "markdown",
   "metadata": {},
   "source": [
    "## Objective\n",
    "\n",
    "The primary objective of this research is to build a predictive model that can identify potential risk factors and patterns linked to mass shooting incidents in the United States. By employing machine learning algorithms, this study aims to reveal key indicators that may contribute to the occurrence of these tragic events and inform evidence-based strategies to prevent mass shootings."
   ]
  },
  {
   "cell_type": "markdown",
   "metadata": {},
   "source": [
    "\n",
    "## Research Questions\n",
    "\n",
    "How well can linear regression predict the likelihood of a mass shooting incident occurring based on historical data and relevant variables?\n",
    "\n",
    "Which features or factors have the most significant influence on the linear regression model in identifying potential risk factors associated with mass shootings?\n",
    "\n",
    "Are there any linear relationships between demographic factors, mental health indicators, and the occurrence of mass shooting incidents?\n",
    "\n",
    "How can the linear regression model be used to develop proactive measures and interventions to prevent mass shootings in high-risk areas?"
   ]
  },
  {
   "cell_type": "markdown",
   "metadata": {},
   "source": [
    "## Methodology\n",
    "\n",
    "The research will adopt a data-driven approach, utilizing the provided dataset on mass shooting incidents, along with demographic data, mental health indicators, and other relevant variables. The dataset will be preprocessed to handle missing values and transformed to ensure compatibility with the linear regression model. Feature selection techniques may be applied to identify the most important variables for the model. The linear regression model will be trained and evaluated to assess its predictive performance."
   ]
  },
  {
   "cell_type": "markdown",
   "metadata": {},
   "source": [
    "## Exploratory Data Analysis\n",
    "\n",
    "(EDA) to gain insights and understand the dataset on mass shooting incidents. Exploratory data analysis involves visualizing and summarizing the data to identify patterns, trends, and potential relationships between variables."
   ]
  },
  {
   "cell_type": "code",
   "execution_count": 185,
   "metadata": {},
   "outputs": [],
   "source": [
    "\n",
    "import pandas as pd\n",
    "data = pd.read_csv(\"US Mass Shootings May 24 2022.csv\")"
   ]
  },
  {
   "cell_type": "code",
   "execution_count": 140,
   "metadata": {},
   "outputs": [
    {
     "name": "stdout",
     "output_type": "stream",
     "text": [
      "                                case                location      date  \\\n",
      "0  Uvalde elementary school massacre           Uvalde, Texas   5/24/22   \n",
      "1       Buffalo supermarket massacre       Buffalo, New York   5/14/22   \n",
      "2  Sacramento County church shooting  Sacramento, California   2/28/22   \n",
      "3        Oxford High School shooting        Oxford, Michigan  11/30/21   \n",
      "4              San Jose VTA shooting    San Jose, California   5/26/21   \n",
      "\n",
      "                                             summary  fatalities injured  \\\n",
      "0                                    DETAILS PENDING          15       -   \n",
      "1  Payton S. Gendron, 18, committed a racially mo...          10       3   \n",
      "2  \"A man believed to be meeting his three childr...           4       0   \n",
      "3  Ethan Crumbley, a 15-year-old student at Oxfor...           4       7   \n",
      "4  Samuel Cassidy, 57, a Valley Transportation Au...           9       0   \n",
      "\n",
      "  total_victims location.1 age_of_shooter prior_signs_mental_health_issues  \\\n",
      "0             -     School             18                                -   \n",
      "1            13  workplace             18                              yes   \n",
      "2             4  Religious              -                                -   \n",
      "3            11     School             15                                -   \n",
      "4             9  Workplace             57                              yes   \n",
      "\n",
      "   ...                        weapon_details   race gender  \\\n",
      "0  ...                                     -      -      M   \n",
      "1  ...  Bushmaster XM-15 semiautomatic rifle  White      M   \n",
      "2  ...                                     -      -      M   \n",
      "3  ...                  Sig Sauer 9mm pistol      -      M   \n",
      "4  ...                                     -      -      M   \n",
      "\n",
      "                                             sources  \\\n",
      "0  https://abcnews.go.com/US/texas-elementary-sch...   \n",
      "1  https://www.nytimes.com/live/2022/05/15/nyregi...   \n",
      "2  https://www.nytimes.com/2022/02/28/us/church-s...   \n",
      "3  https://www.washingtonpost.com/nation/2021/11/...   \n",
      "4  https://www.sfchronicle.com/crime/article/Mass...   \n",
      "\n",
      "                               mental_health_sources sources_additional_age  \\\n",
      "0                                                  -                      -   \n",
      "1  https://www.nytimes.com/2022/05/15/nyregion/gu...                      -   \n",
      "2                                                  -                      -   \n",
      "3                                                  -                      -   \n",
      "4  https://www.nytimes.com/2021/05/26/us/what-hap...                      -   \n",
      "\n",
      "      latitude     longitude  type  year  \n",
      "0            -             -  Mass  2022  \n",
      "1            -             -  Mass  2022  \n",
      "2  38.60111019  -121.4189659  Mass  2022  \n",
      "3  42.84410784  -83.25992831  Mass  2021  \n",
      "4    37.316097   -121.888533  Mass  2021  \n",
      "\n",
      "[5 rows x 24 columns]\n"
     ]
    }
   ],
   "source": [
    "# Printing first 5 rows of the data\n",
    "print(data.head())"
   ]
  },
  {
   "cell_type": "code",
   "execution_count": 92,
   "metadata": {},
   "outputs": [
    {
     "name": "stdout",
     "output_type": "stream",
     "text": [
      "       fatalities         year\n",
      "count  128.000000   128.000000\n",
      "mean     8.039062  2009.171875\n",
      "std      7.687194    10.603899\n",
      "min      3.000000  1982.000000\n",
      "25%      4.000000  2000.750000\n",
      "50%      6.000000  2013.000000\n",
      "75%      9.000000  2018.000000\n",
      "max     58.000000  2022.000000\n"
     ]
    }
   ],
   "source": [
    "# Check the basic statistics of numerical columns\n",
    "print(data.describe())"
   ]
  },
  {
   "cell_type": "code",
   "execution_count": 93,
   "metadata": {},
   "outputs": [
    {
     "name": "stdout",
     "output_type": "stream",
     "text": [
      "<class 'pandas.core.frame.DataFrame'>\n",
      "RangeIndex: 128 entries, 0 to 127\n",
      "Data columns (total 24 columns):\n",
      " #   Column                            Non-Null Count  Dtype \n",
      "---  ------                            --------------  ----- \n",
      " 0   case                              128 non-null    object\n",
      " 1   location                          128 non-null    object\n",
      " 2   date                              128 non-null    object\n",
      " 3   summary                           128 non-null    object\n",
      " 4   fatalities                        128 non-null    int64 \n",
      " 5   injured                           128 non-null    object\n",
      " 6   total_victims                     128 non-null    object\n",
      " 7   location.1                        128 non-null    object\n",
      " 8   age_of_shooter                    128 non-null    object\n",
      " 9   prior_signs_mental_health_issues  128 non-null    object\n",
      " 10  mental_health_details             128 non-null    object\n",
      " 11  weapons_obtained_legally          128 non-null    object\n",
      " 12  where_obtained                    128 non-null    object\n",
      " 13  weapon_type                       128 non-null    object\n",
      " 14  weapon_details                    128 non-null    object\n",
      " 15  race                              128 non-null    object\n",
      " 16  gender                            128 non-null    object\n",
      " 17  sources                           128 non-null    object\n",
      " 18  mental_health_sources             128 non-null    object\n",
      " 19  sources_additional_age            128 non-null    object\n",
      " 20  latitude                          128 non-null    object\n",
      " 21  longitude                         128 non-null    object\n",
      " 22  type                              128 non-null    object\n",
      " 23  year                              128 non-null    int64 \n",
      "dtypes: int64(2), object(22)\n",
      "memory usage: 24.1+ KB\n",
      "None\n"
     ]
    }
   ],
   "source": [
    "# Check the data types of columns and identify missing values\n",
    "print(data.info())"
   ]
  },
  {
   "cell_type": "markdown",
   "metadata": {},
   "source": [
    "The dataset contains 128 entries (rows) with 24 columns. "
   ]
  },
  {
   "cell_type": "markdown",
   "metadata": {},
   "source": [
    "### Step 1. Keep Relevant Columns"
   ]
  },
  {
   "cell_type": "code",
   "execution_count": 186,
   "metadata": {},
   "outputs": [],
   "source": [
    "# Declare relevant columns\n",
    "relevant_columns = [\n",
    "    'year',\n",
    "    'fatalities',\n",
    "    'age_of_shooter',\n",
    "    'prior_signs_mental_health_issues',\n",
    "    'race', \n",
    "    'gender',\n",
    "    'weapon_type',\n",
    "    'location.1'\n",
    "]"
   ]
  },
  {
   "cell_type": "code",
   "execution_count": 1,
   "metadata": {},
   "outputs": [
    {
     "ename": "NameError",
     "evalue": "name 'data' is not defined",
     "output_type": "error",
     "traceback": [
      "\u001b[1;31m---------------------------------------------------------------------------\u001b[0m",
      "\u001b[1;31mNameError\u001b[0m                                 Traceback (most recent call last)",
      "\u001b[1;32m<ipython-input-1-6e5c36bc1b78>\u001b[0m in \u001b[0;36m<module>\u001b[1;34m\u001b[0m\n\u001b[0;32m      1\u001b[0m \u001b[1;31m# # Reassign data so that it only contains relevant columns\u001b[0m\u001b[1;33m\u001b[0m\u001b[1;33m\u001b[0m\u001b[1;33m\u001b[0m\u001b[0m\n\u001b[1;32m----> 2\u001b[1;33m \u001b[0mdata2\u001b[0m \u001b[1;33m=\u001b[0m \u001b[0mdata\u001b[0m\u001b[1;33m.\u001b[0m\u001b[0mloc\u001b[0m\u001b[1;33m[\u001b[0m\u001b[1;33m:\u001b[0m\u001b[1;33m,\u001b[0m \u001b[0mrelevant_columns\u001b[0m\u001b[1;33m]\u001b[0m\u001b[1;33m\u001b[0m\u001b[1;33m\u001b[0m\u001b[0m\n\u001b[0m\u001b[0;32m      3\u001b[0m \u001b[0mdata2\u001b[0m\u001b[1;33m.\u001b[0m\u001b[0mhead\u001b[0m\u001b[1;33m(\u001b[0m\u001b[1;33m)\u001b[0m\u001b[1;33m\u001b[0m\u001b[1;33m\u001b[0m\u001b[0m\n",
      "\u001b[1;31mNameError\u001b[0m: name 'data' is not defined"
     ]
    }
   ],
   "source": [
    "# # Reassign data so that it only contains relevant columns\n",
    "data2 = data.loc[:, relevant_columns]\n",
    "data2.head()"
   ]
  },
  {
   "cell_type": "code",
   "execution_count": 143,
   "metadata": {},
   "outputs": [
    {
     "name": "stdout",
     "output_type": "stream",
     "text": [
      "year                                38\n",
      "fatalities                          21\n",
      "age_of_shooter                      44\n",
      "prior_signs_mental_health_issues     8\n",
      "race                                11\n",
      "gender                               5\n",
      "weapon_type                         69\n",
      "location.1                           9\n",
      "dtype: int64\n"
     ]
    }
   ],
   "source": [
    "# Check the number of unique values in each column\n",
    "print(data2.nunique())"
   ]
  },
  {
   "cell_type": "markdown",
   "metadata": {},
   "source": [
    "Histogram to visualize the distribution of the number of fatalities in mass shooting incidents:"
   ]
  },
  {
   "cell_type": "markdown",
   "metadata": {},
   "source": [
    "### Step 1: Checking for Missing Values"
   ]
  },
  {
   "cell_type": "markdown",
   "metadata": {},
   "source": [
    "Its seems some rows have missing data denoted by '-'. Lets replace that with NaN and handle the missing values appropriately. "
   ]
  },
  {
   "cell_type": "code",
   "execution_count": 144,
   "metadata": {},
   "outputs": [
    {
     "name": "stdout",
     "output_type": "stream",
     "text": [
      "year                                 0\n",
      "fatalities                           0\n",
      "age_of_shooter                       4\n",
      "prior_signs_mental_health_issues    18\n",
      "race                                12\n",
      "gender                               0\n",
      "weapon_type                          5\n",
      "location.1                           0\n",
      "dtype: int64\n"
     ]
    }
   ],
   "source": [
    "# Replace '-' with NaN (null values) in the DataFrame\n",
    "data2.replace('-', pd.NA, inplace=True)\n",
    "\n",
    "# Check for null values in each column\n",
    "null_values_per_column = data2.isnull().sum()\n",
    "\n",
    "# Display the count of null values in each column\n",
    "print(null_values_per_column)"
   ]
  },
  {
   "cell_type": "markdown",
   "metadata": {},
   "source": [
    "Age of Shooter:\n",
    "There are 4 missing values in the age_of_shooter column. We can handle them by replacing them with the mean value of the column.\n",
    "\n",
    "Prior Signs of Mental Health Issues:\n",
    "There are 18 missing values in the prior_signs_mental_health_issues column. We can handle them by replacing them with the most frequent category (mode) in the column.\n",
    "\n",
    "Race:\n",
    "There are 12 missing values in the race column. We can handle them by replacing them with the most frequent category (mode) in the column.\n",
    "\n",
    "Weapon Type:\n",
    "There are 5 missing values in the weapon_type column. We can handle them by replacing them with the most frequent category (mode) in the column."
   ]
  },
  {
   "cell_type": "markdown",
   "metadata": {},
   "source": [
    "### Step 2: Data Cleaning and Transformation"
   ]
  },
  {
   "cell_type": "markdown",
   "metadata": {},
   "source": [
    "Here are some considerations for feature selection based on potential relevance to the research questions:"
   ]
  },
  {
   "cell_type": "markdown",
   "metadata": {},
   "source": [
    "Numeric Features:\n",
    "\n",
    "* fatalities\n",
    "* year\n",
    "* age_of_shooter"
   ]
  },
  {
   "cell_type": "markdown",
   "metadata": {},
   "source": [
    "Categorical Features:\n",
    "\n",
    "* prior_signs_mental_health_issues\n",
    "* race \n",
    "* gender\n",
    "* weapon_type\n",
    "* location.1"
   ]
  },
  {
   "cell_type": "markdown",
   "metadata": {},
   "source": [
    "### Handling Missing Values"
   ]
  },
  {
   "cell_type": "markdown",
   "metadata": {},
   "source": [
    "age_of_shooter:"
   ]
  },
  {
   "cell_type": "code",
   "execution_count": 166,
   "metadata": {},
   "outputs": [],
   "source": [
    "\n",
    "# Convert 'age_of_shooter' column to numeric and handle missing values\n",
    "data2['age_of_shooter'] = pd.to_numeric(data2['age_of_shooter'], errors='coerce')\n",
    "\n",
    "# Calculate the mean of 'age_of_shooter' column\n",
    "age_mean = data2['age_of_shooter'].mean(skipna=True)\n",
    "\n",
    "# Fill missing values in 'age_of_shooter' with the mean\n",
    "data2['age_of_shooter'].fillna(age_mean, inplace=True)\n"
   ]
  },
  {
   "cell_type": "markdown",
   "metadata": {},
   "source": [
    "prior_signs_mental_health_issues:"
   ]
  },
  {
   "cell_type": "code",
   "execution_count": 167,
   "metadata": {},
   "outputs": [],
   "source": [
    "# Calculate the mode of the column\n",
    "prior_signs_mode = data2['prior_signs_mental_health_issues'].mode()[0]\n",
    "# Replace null values with mode inplace\n",
    "data2['prior_signs_mental_health_issues'].fillna(prior_signs_mode, inplace=True)"
   ]
  },
  {
   "cell_type": "markdown",
   "metadata": {},
   "source": [
    "race:"
   ]
  },
  {
   "cell_type": "code",
   "execution_count": 168,
   "metadata": {},
   "outputs": [],
   "source": [
    "# Calculate the mode of the column\n",
    "race_mode = data2['race'].mode()[0]\n",
    "# Replace null values with mode inplace\n",
    "data2['race'].fillna(race_mode, inplace=True)"
   ]
  },
  {
   "cell_type": "markdown",
   "metadata": {},
   "source": [
    "weapon_type:"
   ]
  },
  {
   "cell_type": "code",
   "execution_count": 169,
   "metadata": {},
   "outputs": [],
   "source": [
    "# Calculate the mode of the column\n",
    "weapon_type_mode = data2['weapon_type'].mode()[0]\n",
    "# Replace null values with mode inplace\n",
    "data2['weapon_type'].fillna(weapon_type_mode, inplace=True)"
   ]
  },
  {
   "cell_type": "markdown",
   "metadata": {},
   "source": [
    "### Outlier detection"
   ]
  },
  {
   "cell_type": "code",
   "execution_count": 170,
   "metadata": {},
   "outputs": [
    {
     "data": {
      "image/png": "[encoded data removed]",
      "text/plain": [
       "<Figure size 720x432 with 2 Axes>"
      ]
     },
     "metadata": {
      "needs_background": "light"
     },
     "output_type": "display_data"
    }
   ],
   "source": [
    "# Check for outliers in \"Year\" and \"Fatalities\" columns using box plots\n",
    "plt.figure(figsize=(10, 6))\n",
    "plt.subplot(2, 1, 1)\n",
    "plt.boxplot(data2['year'], vert=False)\n",
    "plt.title(\"Box Plot - Year\")\n",
    "plt.subplot(2, 1, 2)\n",
    "plt.boxplot(data2['fatalities'], vert=False)\n",
    "plt.title(\"Box Plot - Fatalities\")\n",
    "plt.tight_layout()\n",
    "plt.show()"
   ]
  },
  {
   "cell_type": "markdown",
   "metadata": {},
   "source": [
    "By taking the logarithm transformation, we compress the range of the \"Fatalities\" column and mitigate the influence of extreme values. "
   ]
  },
  {
   "cell_type": "code",
   "execution_count": 171,
   "metadata": {},
   "outputs": [
    {
     "data": {
      "image/png": "[encoded data removed]",
      "text/plain": [
       "<Figure size 432x288 with 1 Axes>"
      ]
     },
     "metadata": {
      "needs_background": "light"
     },
     "output_type": "display_data"
    }
   ],
   "source": [
    "# Apply logarithm transformation to \"Fatalities\" column\n",
    "data2['fatalities'] = data2['fatalities'].apply(lambda x: np.log1p(x))\n",
    "\n",
    "# Check for outliers in \"Fatalities\" column after transformation using box plot\n",
    "plt.boxplot(data2['fatalities'], vert=False)\n",
    "plt.title(\"Box Plot - Fatalities (After Log Transformation)\")\n",
    "plt.show()"
   ]
  },
  {
   "cell_type": "markdown",
   "metadata": {},
   "source": [
    "#### Handling Categorical Features"
   ]
  },
  {
   "cell_type": "code",
   "execution_count": 172,
   "metadata": {},
   "outputs": [
    {
     "data": {
      "text/html": [
       "<div>\n",
       "<style scoped>\n",
       "    .dataframe tbody tr th:only-of-type {\n",
       "        vertical-align: middle;\n",
       "    }\n",
       "\n",
       "    .dataframe tbody tr th {\n",
       "        vertical-align: top;\n",
       "    }\n",
       "\n",
       "    .dataframe thead th {\n",
       "        text-align: right;\n",
       "    }\n",
       "</style>\n",
       "<table border=\"1\" class=\"dataframe\">\n",
       "  <thead>\n",
       "    <tr style=\"text-align: right;\">\n",
       "      <th></th>\n",
       "      <th>year</th>\n",
       "      <th>fatalities</th>\n",
       "      <th>age_of_shooter</th>\n",
       "      <th>prior_signs_mental_health_issues</th>\n",
       "      <th>race</th>\n",
       "      <th>gender</th>\n",
       "      <th>weapon_type</th>\n",
       "      <th>location.1</th>\n",
       "    </tr>\n",
       "  </thead>\n",
       "  <tbody>\n",
       "    <tr>\n",
       "      <th>0</th>\n",
       "      <td>2022</td>\n",
       "      <td>2.772589</td>\n",
       "      <td>18.000000</td>\n",
       "      <td>Yes</td>\n",
       "      <td>white</td>\n",
       "      <td>M</td>\n",
       "      <td>One semiautomatic handgun</td>\n",
       "      <td>School</td>\n",
       "    </tr>\n",
       "    <tr>\n",
       "      <th>1</th>\n",
       "      <td>2022</td>\n",
       "      <td>2.397895</td>\n",
       "      <td>18.000000</td>\n",
       "      <td>yes</td>\n",
       "      <td>White</td>\n",
       "      <td>M</td>\n",
       "      <td>semiautomatic rifle</td>\n",
       "      <td>workplace</td>\n",
       "    </tr>\n",
       "    <tr>\n",
       "      <th>2</th>\n",
       "      <td>2022</td>\n",
       "      <td>1.609438</td>\n",
       "      <td>33.741935</td>\n",
       "      <td>Yes</td>\n",
       "      <td>white</td>\n",
       "      <td>M</td>\n",
       "      <td>One semiautomatic handgun</td>\n",
       "      <td>Religious</td>\n",
       "    </tr>\n",
       "    <tr>\n",
       "      <th>3</th>\n",
       "      <td>2021</td>\n",
       "      <td>1.609438</td>\n",
       "      <td>15.000000</td>\n",
       "      <td>Yes</td>\n",
       "      <td>white</td>\n",
       "      <td>M</td>\n",
       "      <td>semiautomatic handgun</td>\n",
       "      <td>School</td>\n",
       "    </tr>\n",
       "    <tr>\n",
       "      <th>4</th>\n",
       "      <td>2021</td>\n",
       "      <td>2.302585</td>\n",
       "      <td>57.000000</td>\n",
       "      <td>yes</td>\n",
       "      <td>white</td>\n",
       "      <td>M</td>\n",
       "      <td>semiautomatic handguns</td>\n",
       "      <td>Workplace</td>\n",
       "    </tr>\n",
       "  </tbody>\n",
       "</table>\n",
       "</div>"
      ],
      "text/plain": [
       "   year  fatalities  age_of_shooter prior_signs_mental_health_issues   race  \\\n",
       "0  2022    2.772589       18.000000                              Yes  white   \n",
       "1  2022    2.397895       18.000000                              yes  White   \n",
       "2  2022    1.609438       33.741935                              Yes  white   \n",
       "3  2021    1.609438       15.000000                              Yes  white   \n",
       "4  2021    2.302585       57.000000                              yes  white   \n",
       "\n",
       "  gender                weapon_type location.1  \n",
       "0      M  One semiautomatic handgun     School  \n",
       "1      M        semiautomatic rifle  workplace  \n",
       "2      M  One semiautomatic handgun  Religious  \n",
       "3      M      semiautomatic handgun     School  \n",
       "4      M     semiautomatic handguns  Workplace  "
      ]
     },
     "execution_count": 172,
     "metadata": {},
     "output_type": "execute_result"
    }
   ],
   "source": [
    "data2.head()"
   ]
  },
  {
   "cell_type": "code",
   "execution_count": 203,
   "metadata": {},
   "outputs": [
    {
     "name": "stdout",
     "output_type": "stream",
     "text": [
      "Yes         58\n",
      "Unclear     23\n",
      "-           18\n",
      "No          17\n",
      "TBD          5\n",
      "yes          5\n",
      "Unclear      1\n",
      "Unknown      1\n",
      "Name: prior_signs_mental_health_issues, dtype: int64\n",
      "\n",
      "white              41\n",
      "White              26\n",
      "Black              12\n",
      "-                  12\n",
      "Latino             10\n",
      "black               9\n",
      "Asian               8\n",
      "Other               5\n",
      "Native American     3\n",
      "unclear             1\n",
      "White               1\n",
      "Name: race, dtype: int64\n",
      "\n",
      "Male             70\n",
      "M                53\n",
      "Female            2\n",
      "Male & Female     2\n",
      "F                 1\n",
      "Name: gender, dtype: int64\n",
      "\n",
      "One semiautomatic handgun                            18\n",
      "semiautomatic handgun                                10\n",
      "semiautomatic rifle                                   9\n",
      "handgun                                               6\n",
      "Two semiautomatic handguns                            6\n",
      "                                                     ..\n",
      "Two semiautomatic handguns, one shotgun               1\n",
      "semiautomatic rifle; shotgun                          1\n",
      "semiautomatic rifles                                  1\n",
      "semiautomatic handguns                                1\n",
      "One semiautomatic handgun, one rifle, one shotgun     1\n",
      "Name: weapon_type, Length: 69, dtype: int64\n",
      "\n",
      "Other          46\n",
      "Workplace      44\n",
      "School         19\n",
      "Religious       7\n",
      "Military        6\n",
      "Other\\n         3\n",
      "Airport         1\n",
      "workplace       1\n",
      "\\nWorkplace     1\n",
      "Name: location.1, dtype: int64\n"
     ]
    }
   ],
   "source": [
    "# Inspecting the prior_signs_mental_health_issues column\n",
    "print(data2['prior_signs_mental_health_issues'].value_counts())\n",
    "print()\n",
    "print(data2['race'].value_counts())\n",
    "print()\n",
    "print(data2['gender'].value_counts())\n",
    "print()\n",
    "print(data2['weapon_type'].value_counts())\n",
    "print()\n",
    "print(data2['location.1'].value_counts())\n"
   ]
  },
  {
   "cell_type": "code",
   "execution_count": 204,
   "metadata": {},
   "outputs": [
    {
     "name": "stdout",
     "output_type": "stream",
     "text": [
      "yes         63\n",
      "no          17\n",
      "unclear      1\n",
      "Name: prior_signs_mental_health_issues, dtype: int64\n"
     ]
    }
   ],
   "source": [
    "# Replace variations of 'yes' and 'no' with consistent values\n",
    "data2['prior_signs_mental_health_issues'] = data2['prior_signs_mental_health_issues'].str.lower()\n",
    "data2['prior_signs_mental_health_issues'].replace({'yes': 'yes', 'tbd': pd.NA, 'unclear': pd.NA, 'unknown': pd.NA, '-': pd.NA}, inplace=True)\n",
    "\n",
    "# Check the cleaned values in 'prior_signs_mental_health_issues' column\n",
    "print(data2['prior_signs_mental_health_issues'].value_counts())"
   ]
  },
  {
   "cell_type": "code",
   "execution_count": 205,
   "metadata": {},
   "outputs": [],
   "source": [
    "# Replace variations of 'race with consistent values\n",
    "data2['race'].replace({'white': 'White', 'black': 'Black', })"
   ]
  }
 ],
 "metadata": {
  "kernelspec": {
   "display_name": "learn-env",
   "language": "python",
   "name": "python3"
  },
  "language_info": {
   "codemirror_mode": {
    "name": "ipython",
    "version": 3
   },
   "file_extension": ".py",
   "mimetype": "text/x-python",
   "name": "python",
   "nbconvert_exporter": "python",
   "pygments_lexer": "ipython3",
   "version": "3.8.5"
  },
  "orig_nbformat": 4
 },
 "nbformat": 4,
 "nbformat_minor": 2
}
